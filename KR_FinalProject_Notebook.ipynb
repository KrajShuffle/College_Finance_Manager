{
 "cells": [
  {
   "cell_type": "markdown",
   "metadata": {},
   "source": [
    "# Final Project: Weekly Expense Tracker"
   ]
  },
  {
   "cell_type": "markdown",
   "metadata": {},
   "source": [
    "Currently, college students undergo many expenses over one week to satisfy their daily needs. The goal of this project is to create an easy-to-use module where users could import a spreadsheet of their expenses and run it to keep track of their expenses over one week. This project REQUIRES the imported excel spreadsheet to have purchases' amounts in the left-most column and the initial cash amount in the column to its right. Three methods were created in this project to revolutionize the original messy spreadsheet into a clean, reusable, and powerful dataframe object. \n",
    "\n",
    "The first method cleans the original spreadsheet and relabels the original column labels to better column titles. The second method adds three new columns: 'Balance','Number of Items Purchased', and 'Total Expense From Last Week' with their respective values. Finally, the third method calculates how many weeks is the user safe from bankruptcy if he or she continues their current spending rate. \n"
   ]
  },
  {
   "cell_type": "markdown",
   "metadata": {},
   "source": [
    "## Project Code\n",
    "\n"
   ]
  },
  {
   "cell_type": "code",
   "execution_count": 1,
   "metadata": {},
   "outputs": [],
   "source": [
    "from my_module.functions import *\n",
    "import pandas as pd\n",
    "import numpy as py"
   ]
  },
  {
   "cell_type": "code",
   "execution_count": null,
   "metadata": {
    "collapsed": true
   },
   "outputs": [],
   "source": [
    "#ds = pd.read_excel('') # Uncomment after adding an excel file as specified in the project description\n",
    "ds.head()\n"
   ]
  },
  {
   "cell_type": "code",
   "execution_count": null,
   "metadata": {
    "collapsed": true
   },
   "outputs": [],
   "source": [
    "modify_columns(ds)"
   ]
  },
  {
   "cell_type": "code",
   "execution_count": null,
   "metadata": {},
   "outputs": [],
   "source": [
    "remodel_spreadsheet(ds)"
   ]
  },
  {
   "cell_type": "code",
   "execution_count": null,
   "metadata": {},
   "outputs": [],
   "source": [
    "weeks_till_bankrupt(ds)"
   ]
  }
 ],
 "metadata": {
  "kernelspec": {
   "display_name": "Python 3",
   "language": "python",
   "name": "python3"
  },
  "language_info": {
   "codemirror_mode": {
    "name": "ipython",
    "version": 3
   },
   "file_extension": ".py",
   "mimetype": "text/x-python",
   "name": "python",
   "nbconvert_exporter": "python",
   "pygments_lexer": "ipython3",
   "version": "3.7.3"
  }
 },
 "nbformat": 4,
 "nbformat_minor": 2
}
